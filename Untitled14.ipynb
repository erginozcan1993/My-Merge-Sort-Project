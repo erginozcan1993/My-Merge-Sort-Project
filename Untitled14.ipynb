{
 "cells": [
  {
   "cell_type": "markdown",
   "metadata": {},
   "source": [
    "## Merge Sort Projesi\n",
    "\n",
    "Bu projede Merge Sort bilgilerimi kullandım."
   ]
  },
  {
   "cell_type": "markdown",
   "metadata": {},
   "source": [
    "1) [16,21,11,8,12,22] dizisinin sort türüne göre aşamalar şunlardır.\n",
    "\n",
    "* [16,21,11,8,12,22]\n",
    "\n",
    "* [16, 21, 11] [8, 12, 22]\n",
    "\n",
    "* [16] [21, 11] [8, 12] [22]\n",
    "\n",
    "* [16] [21] [11] [8] [12] [22]\n",
    "\n",
    "* [16] [11, 21] [8, 12] [22]\n",
    "\n",
    "* [11, 16, 21] [8, 12, 22]\n",
    "\n",
    "* [8, 11, 12, 16, 21, 22]"
   ]
  },
  {
   "cell_type": "markdown",
   "metadata": {},
   "source": [
    "2) Altı elemanlı kümenin Big O gösterimi ise şudur.\n",
    "\n",
    "Big O = log(n) = 6 -> n = 36"
   ]
  }
 ],
 "metadata": {
  "kernelspec": {
   "display_name": "Python 3",
   "language": "python",
   "name": "python3"
  },
  "language_info": {
   "codemirror_mode": {
    "name": "ipython",
    "version": 3
   },
   "file_extension": ".py",
   "mimetype": "text/x-python",
   "name": "python",
   "nbconvert_exporter": "python",
   "pygments_lexer": "ipython3",
   "version": "3.8.5"
  }
 },
 "nbformat": 4,
 "nbformat_minor": 4
}
